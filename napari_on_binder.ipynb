{
 "cells": [
  {
   "cell_type": "markdown",
   "id": "743e8576-9217-4761-bfc1-53e7f7e340d1",
   "metadata": {},
   "source": [
    "# Running napari on binder"
   ]
  },
  {
   "cell_type": "markdown",
   "id": "ce9ef0d4-000b-4bb5-8a9e-9133a3044e58",
   "metadata": {},
   "source": [
    "Before running the following cell, create a desktop using the Launcher"
   ]
  },
  {
   "cell_type": "code",
   "execution_count": 1,
   "id": "317cd6ed-c16a-4527-a887-e7630ec8439c",
   "metadata": {},
   "outputs": [],
   "source": [
    "import os\n",
    "os.environ['DISPLAY'] = ':1.0'"
   ]
  },
  {
   "cell_type": "code",
   "execution_count": 2,
   "id": "2181989e-cdbf-4136-802c-e1ad777f33dd",
   "metadata": {},
   "outputs": [],
   "source": [
    "import napari\n",
    "import skimage"
   ]
  },
  {
   "cell_type": "code",
   "execution_count": 3,
   "id": "0fff3114-8378-4c10-b79a-d1b376610ee8",
   "metadata": {},
   "outputs": [
    {
     "name": "stderr",
     "output_type": "stream",
     "text": [
      "WARNING: QStandardPaths: XDG_RUNTIME_DIR not set, defaulting to '/tmp/runtime-jovyan'\n"
     ]
    }
   ],
   "source": [
    "viewer = napari.Viewer()"
   ]
  },
  {
   "cell_type": "code",
   "execution_count": 5,
   "id": "90ed95ea-bec4-4ef7-9633-fc9cb446fea3",
   "metadata": {},
   "outputs": [],
   "source": [
    "image = skimage.io.imread('https://upload.wikimedia.org/wikipedia/commons/thumb/5/5b/Serengeti_Elefantenherde1.jpg/2560px-Serengeti_Elefantenherde1.jpg')"
   ]
  },
  {
   "cell_type": "code",
   "execution_count": 7,
   "id": "2f140559-0d17-4bf7-aaa5-c175e0b421b4",
   "metadata": {},
   "outputs": [
    {
     "data": {
      "text/plain": [
       "<Image layer 'image' at 0x7fa05895f700>"
      ]
     },
     "execution_count": 7,
     "metadata": {},
     "output_type": "execute_result"
    }
   ],
   "source": [
    "viewer.add_image(image);"
   ]
  }
 ],
 "metadata": {
  "kernelspec": {
   "display_name": "Python 3 (ipykernel)",
   "language": "python",
   "name": "python3"
  },
  "language_info": {
   "codemirror_mode": {
    "name": "ipython",
    "version": 3
   },
   "file_extension": ".py",
   "mimetype": "text/x-python",
   "name": "python",
   "nbconvert_exporter": "python",
   "pygments_lexer": "ipython3",
   "version": "3.9.13"
  }
 },
 "nbformat": 4,
 "nbformat_minor": 5
}
